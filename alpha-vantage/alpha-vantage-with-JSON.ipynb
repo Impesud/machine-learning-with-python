{
 "cells": [
  {
   "cell_type": "code",
   "execution_count": null,
   "metadata": {},
   "outputs": [],
   "source": [
    "# Alpha Vantage with JSON\n",
    "# Visit my profile: https://github.com/impesud\n",
    "# Author: Erick Jara\n",
    "\n",
    "# Request your free API key here: https://www.alphavantage.co/support/#api-key\n",
    "# Documentation for Alpha Vantage is available at https://www.alphavantage.co/documentation/\n",
    "%pip install pandas matplotlib "
   ]
  },
  {
   "cell_type": "code",
   "execution_count": null,
   "metadata": {},
   "outputs": [],
   "source": [
    "import matplotlib.pyplot as plt\n",
    "import pandas as pd\n",
    "import requests\n",
    "import json\n",
    "\n",
    "# Replace 'YOUR_API_KEY' with your Alpha Vantage API key\n",
    "ALPHA_VANTAGE_API_KEY = 'YOUR_API_KEY'\n",
    "\n",
    "# Use the TIME_SERIES_INTRADAY API and update the parameters\n",
    "# Get historical data for ENI stock\n",
    "# ENI S.p.A. Common Stock (E)\n",
    "# List of symbols you can use https://www.nasdaq.com/market-activity/stocks/screener\n",
    "url = 'https://www.alphavantage.co/query?function=TIME_SERIES_INTRADAY&symbol=E&interval=15min&apikey=ALPHA_VANTAGE_API_KEY'\n",
    "r = requests.get(url)\n",
    "data = r.json()\n",
    "\n",
    "# Store the JSON data in a file\n",
    "with open(\"times_series_intraday.json\", \"w\") as file:\n",
    "    json.dump(data, file)\n",
    "\n",
    "# Retrieve JSON data from the file\n",
    "with open(\"times_series_intraday.json\", \"r\") as file:\n",
    "    data = json.load(file)\n",
    "\n",
    "# Access and process the retrieved JSON data\n",
    "data = pd.DataFrame(data[\"Time Series (15min)\"])\n",
    "data = data.T  # Transpose Dataframe for desired results\n",
    "data = data.sort_index()\n",
    "\n",
    "# Print the retrieved data\n",
    "print(data)\n",
    "\n",
    "#BONUS: If you want you can also rename the columns\n",
    "#df.columns = df.columns.str.split().str[1].str.capitalize()\n",
    "\n",
    "# Print all the prices, discard volume\n",
    "plt.figure(figsize=(10, 6))\n",
    "data['1. open']=data['1. open'].astype(float)\n",
    "data['2. high']=data['2. high'].astype(float)\n",
    "data['3. low']=data['3. low'].astype(float)\n",
    "data['4. close']=data['4. close'].astype(float)\n",
    "data= data.drop(columns=['5. volume'])\n",
    "\n",
    "#If you want to print only one type of price, use the following line instead\n",
    "#plt.plot(data.index, data['4. close'], label='Closing Price')\n",
    "\n",
    "data.plot()\n",
    "plt.title('ENI Prices Trend')\n",
    "plt.xlabel('')\n",
    "plt.ylabel('ENI Prices')\n",
    "plt.legend()\n",
    "plt.grid(True)\n",
    "plt.xticks(rotation=90)\n",
    "plt.xticks(fontsize=8)\n",
    "plt.tight_layout()\n",
    "plt.show()"
   ]
  }
 ],
 "metadata": {
  "kernelspec": {
   "display_name": ".venv",
   "language": "python",
   "name": "python3"
  },
  "language_info": {
   "codemirror_mode": {
    "name": "ipython",
    "version": 3
   },
   "file_extension": ".py",
   "mimetype": "text/x-python",
   "name": "python",
   "nbconvert_exporter": "python",
   "pygments_lexer": "ipython3",
   "version": "3.8.10"
  }
 },
 "nbformat": 4,
 "nbformat_minor": 2
}
