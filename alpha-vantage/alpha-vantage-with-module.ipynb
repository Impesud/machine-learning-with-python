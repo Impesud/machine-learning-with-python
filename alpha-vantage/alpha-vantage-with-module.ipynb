{
 "cells": [
  {
   "cell_type": "code",
   "execution_count": null,
   "metadata": {},
   "outputs": [],
   "source": [
    "# Alpha Vantage with Python module\n",
    "# Visit my profile: https://github.com/impesud\n",
    "# Author: Erick Jara\n",
    "\n",
    "# Request your free API key here: https://www.alphavantage.co/support/#api-key\n",
    "# Install the module for Alpha Vantage https://pypi.org/project/alpha-vantage/\n",
    "%pip install alpha_vantage matplotlib pandas"
   ]
  },
  {
   "cell_type": "code",
   "execution_count": null,
   "metadata": {},
   "outputs": [],
   "source": [
    "from alpha_vantage.timeseries import TimeSeries\n",
    "import matplotlib.pyplot as plt\n",
    "\n",
    "\n",
    "# Replace 'YOUR_API_KEY' with your Alpha Vantage API key\n",
    "ALPHA_VANTAGE_API_KEY = 'YOUR_API_KEY'\n",
    "\n",
    "ts = TimeSeries(key=ALPHA_VANTAGE_API_KEY, output_format='pandas')\n",
    "\n",
    "# Get historical data for ENI stock\n",
    "# ENI S.p.A. Common Stock (E)\n",
    "# List of symbols you can use https://www.nasdaq.com/market-activity/stocks/screener\n",
    "data, meta_data = ts.get_intraday(symbol='E', interval=\"15min\", outputsize=\"full\")\n",
    "\n",
    "# Print the retrieved data\n",
    "print(data)\n",
    "\n",
    "#BONUS: If you want you can also rename the columns\n",
    "#df.columns = df.columns.str.split().str[1].str.capitalize()\n",
    "\n",
    "# Price display\n",
    "plt.figure(figsize=(10, 6))\n",
    "\n",
    "#Print all the prices, discard volume\n",
    "data= data.drop(columns=['5. volume'])\n",
    "\n",
    "#If you want to print only one type of price, use the following line instead\n",
    "#plt.plot(data.index, data['4. close'], label='Closing Price')\n",
    "\n",
    "data.plot()\n",
    "plt.title('ENI Prices Trend')\n",
    "plt.xlabel('')\n",
    "plt.ylabel('ENI Prices')\n",
    "plt.legend()\n",
    "plt.grid(True)\n",
    "plt.xticks(rotation=90)\n",
    "plt.xticks(fontsize=8)\n",
    "plt.tight_layout()\n",
    "plt.show()"
   ]
  }
 ],
 "metadata": {
  "kernelspec": {
   "display_name": ".venv",
   "language": "python",
   "name": "python3"
  },
  "language_info": {
   "codemirror_mode": {
    "name": "ipython",
    "version": 3
   },
   "file_extension": ".py",
   "mimetype": "text/x-python",
   "name": "python",
   "nbconvert_exporter": "python",
   "pygments_lexer": "ipython3",
   "version": "3.8.10"
  }
 },
 "nbformat": 4,
 "nbformat_minor": 2
}
