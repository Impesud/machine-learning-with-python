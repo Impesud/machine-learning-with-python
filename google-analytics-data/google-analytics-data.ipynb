{
 "cells": [
  {
   "cell_type": "code",
   "execution_count": null,
   "metadata": {},
   "outputs": [],
   "source": [
    "#   Google Analytics 4 API with Python\n",
    "#   Visit my profile: https://github.com/impesud\n",
    "\n",
    "#   We will use the following libraries:\n",
    "# - google-analytics-data: for accessing Google Analytics data\n",
    "# - pandas: for data manipulation\n",
    "# - matplotlib: for data visualization\n",
    "\n",
    "%pip install google-analytics-data pandas matplotlib "
   ]
  },
  {
   "cell_type": "code",
   "execution_count": null,
   "metadata": {},
   "outputs": [],
   "source": [
    "from google.analytics.data_v1beta import BetaAnalyticsDataClient\n",
    "from google.analytics.data_v1beta import Metric, RunReportRequest, OrderBy\n",
    "from google.oauth2.service_account import Credentials\n",
    "import pandas as pd\n",
    "import itertools as it \n",
    "import matplotlib.pyplot as plt"
   ]
  },
  {
   "cell_type": "code",
   "execution_count": null,
   "metadata": {},
   "outputs": [],
   "source": [
    "# Authentication using service account credentials\n",
    "# Set-Up a Google Cloud Project\n",
    "# Add and Enable Google Analytics Data API\n",
    "# Create a GCP Service Account and download a Private Key JSON File\n",
    "# Grant User Permissions in GA4\n",
    "credentials = Credentials.from_service_account_file('xxxxxxxxxxxxxxx.json')"
   ]
  },
  {
   "cell_type": "code",
   "execution_count": null,
   "metadata": {},
   "outputs": [],
   "source": [
    "# Initializing the Google Analytics client\n",
    "client = BetaAnalyticsDataClient(credentials=credentials)"
   ]
  },
  {
   "cell_type": "code",
   "execution_count": null,
   "metadata": {},
   "outputs": [],
   "source": [
    "# Example query to get data\n",
    "request = RunReportRequest(\n",
    "    #property ID of your GA4 property\n",
    "    property=f\"properties/{property_id}\",\n",
    "    date_ranges=[{\"start_date\": \"21daysAgo\", \"end_date\": \"today\"}],\n",
    "    dimensions=[\n",
    "        {\"name\": \"date\"},\n",
    "        #{\"name\":\"country\"}\n",
    "    ],\n",
    "    metrics=[ \n",
    "        Metric(name=\"activeUsers\"),\n",
    "        #Metric(name=\"newUsers\")\n",
    "    ],\n",
    "    order_bys=[\n",
    "        OrderBy(dimension=OrderBy.DimensionOrderBy(dimension_name=\"date\"), desc=False),\n",
    "    ]\n",
    ")\n",
    "# You can add other dimensions and metrics, following Google's documentation on GA4:\n",
    "# https://developers.google.com/analytics/devguides/reporting/data/v1/api-schema?hl=en"
   ]
  },
  {
   "cell_type": "code",
   "execution_count": null,
   "metadata": {},
   "outputs": [],
   "source": [
    "response = client.run_report(\n",
    "    request=request\n",
    ")\n",
    "print(response)"
   ]
  },
  {
   "cell_type": "code",
   "execution_count": null,
   "metadata": {},
   "outputs": [],
   "source": [
    "# Convert data to a Pandas DataFrame for analysis\n",
    "def query_data(api_response):\n",
    "    dimension_headers = [header.name for header in api_response.dimension_headers]\n",
    "    metric_headers = [header.name for header in api_response.metric_headers]\n",
    "    dimensions = []\n",
    "    metrics = []\n",
    "    for i in range(len(dimension_headers)):\n",
    "        dimensions.append([row.dimension_values[i].value for row in api_response.rows])\n",
    "    dimensions\n",
    "    for i in range(len(metric_headers)):\n",
    "        metrics.append([row.metric_values[i].value for row in api_response.rows])\n",
    "    headers = dimension_headers, metric_headers\n",
    "    headers = list(it.chain.from_iterable(headers))   \n",
    "    data = dimensions, metrics\n",
    "    data = list(it.chain.from_iterable(data))\n",
    "    df = pd.DataFrame(data)\n",
    "    df = df.transpose()\n",
    "    df.columns = headers\n",
    "    return df\n",
    "\n",
    "query_data(response)"
   ]
  },
  {
   "cell_type": "code",
   "execution_count": null,
   "metadata": {},
   "outputs": [],
   "source": [
    "# Export data to a CSV file\n",
    "final_data = query_data(response)\n",
    "final_data.to_csv('file.csv', index=False)"
   ]
  },
  {
   "cell_type": "code",
   "execution_count": null,
   "metadata": {},
   "outputs": [],
   "source": [
    "# Data Visualization and Exploratory Analysis\n",
    "# For example, displaying the number of active users over time\n",
    "df = pd.read_csv('file.csv')\n",
    "plt.figure(figsize=(20, 8))\n",
    "x = range(len(df['date']))\n",
    "plt.plot(x, df['activeUsers'], marker=\"o\")\n",
    "plt.xticks(x, df['date'])\n",
    "plt.yticks(df['activeUsers'])\n",
    "plt.xlabel('')\n",
    "plt.ylabel('Active Users')\n",
    "plt.xticks(rotation=90)\n",
    "plt.tight_layout()\n",
    "plt.show()"
   ]
  }
 ],
 "metadata": {
  "kernelspec": {
   "display_name": ".venv",
   "language": "python",
   "name": "python3"
  },
  "language_info": {
   "codemirror_mode": {
    "name": "ipython",
    "version": 3
   },
   "file_extension": ".py",
   "mimetype": "text/x-python",
   "name": "python",
   "nbconvert_exporter": "python",
   "pygments_lexer": "ipython3",
   "version": "3.8.10"
  }
 },
 "nbformat": 4,
 "nbformat_minor": 2
}
